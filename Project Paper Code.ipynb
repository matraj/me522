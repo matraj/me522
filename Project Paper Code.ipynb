{
 "cells": [
  {
   "cell_type": "markdown",
   "metadata": {},
   "source": [
    "# SYDE 522 Project Code\n",
    "Chang Li, Maathusan Rajendram, Anastasia Santasheva, Evan Yeung"
   ]
  },
  {
   "cell_type": "markdown",
   "metadata": {},
   "source": [
    "## Import Packages\n"
   ]
  },
  {
   "cell_type": "code",
   "execution_count": 150,
   "metadata": {},
   "outputs": [],
   "source": [
    "# standard useful packages \n",
    "import numpy as np\n",
    "import pandas as pd\n",
    "import matplotlib.pyplot as plt\n",
    "\n",
    "# validation & normalization methods\n",
    "from sklearn.preprocessing import StandardScaler\n",
    "from sklearn.model_selection import train_test_split, KFold, LeaveOneOut\n",
    "\n",
    "# accuracy, error, log loss methods\n",
    "from sklearn.metrics import accuracy_score\n",
    "from sklearn.metrics import log_loss\n",
    "\n",
    "# dim reduction & classification methods \n",
    "from sklearn.decomposition import PCA\n",
    "from sklearn.discriminant_analysis import LinearDiscriminantAnalysis\n",
    "from sklearn.svm import SVC\n",
    "from sklearn.tree import DecisionTreeClassifier\n",
    "from sklearn.ensemble import RandomForestClassifier, AdaBoostClassifier, VotingClassifier\n",
    "\n",
    "# make matplotlib to show plots inline\n",
    "%matplotlib inline\n",
    "\n",
    "# TODO: add ways to select options"
   ]
  },
  {
   "cell_type": "markdown",
   "metadata": {},
   "source": [
    "## Load  Dataset\n",
    "* Select a data set (Portugese course or Math course)"
   ]
  },
  {
   "cell_type": "code",
   "execution_count": 151,
   "metadata": {},
   "outputs": [
    {
     "data": {
      "text/plain": [
       "(649, 33)"
      ]
     },
     "execution_count": 151,
     "metadata": {},
     "output_type": "execute_result"
    }
   ],
   "source": [
    "# import data from csv\n",
    "dataframe = pd.read_csv('student-por.csv', usecols = range(0,33)) # select Portugese course dataset\n",
    "# dataframe = pd.read_csv('student-mat.csv', usecols = range(0,33)) # select Math course dataset\n",
    "\n",
    "dataset = dataframe.values\n",
    "dataset.shape"
   ]
  },
  {
   "cell_type": "markdown",
   "metadata": {},
   "source": [
    "## Preprocessing\n",
    "\n",
    "* Convert nominal attributes with Integer + One-Hot Encoding\n",
    "* Select supervised approache for G3\n",
    "* NOTE: if we want we can also split further into A,B,C (A= all cols, B=same as A without G2, C=same as B without G1)\n",
    "    * But leaving this out for now since we know A gives best accuracy"
   ]
  },
  {
   "cell_type": "code",
   "execution_count": 152,
   "metadata": {},
   "outputs": [],
   "source": [
    "# helper functions for preprocessing\n",
    "def convertToBinary(df, num_cols):\n",
    "    df.loc[(df.G3 < 10), 'G3'] = 0\n",
    "    df.loc[(df.G3 >= 10), 'G3'] = 1\n",
    "    \n",
    "    G3 = df.values[:,num_cols-1]\n",
    "    return G3\n",
    "\n",
    "def convertToFiveLevel(df, num_cols):\n",
    "    df.loc[(df.G3 <= 9), 'G3'] = 0\n",
    "    df.loc[(df.G3 > 9) & (df.G3 <= 11), 'G3'] = 1\n",
    "    df.loc[(df.G3 > 11) & (df.G3 <= 13), 'G3'] = 2\n",
    "    df.loc[(df.G3 > 13) & (df.G3 <= 16), 'G3'] = 3\n",
    "    df.loc[(df.G3 > 16), 'G3'] = 4\n",
    "    \n",
    "    G3 = df.values[:,num_cols-1]\n",
    "    return G3   \n",
    "\n",
    "def oneHotEncode(df, num_cols):\n",
    "    cols_to_transform = [\n",
    "                        'school',\n",
    "                        'sex',\n",
    "                        'address',\n",
    "                        'famsize',\n",
    "                        'Pstatus',\n",
    "                        'Mjob',                        \n",
    "                        'Fjob',\n",
    "                        'reason',\n",
    "                        'guardian',\n",
    "                        'famsup',\n",
    "                        'schoolsup',\n",
    "                        'paid',\n",
    "                        'activities',\n",
    "                        'nursery',                        \n",
    "                        'higher',\n",
    "                        'internet',\n",
    "                        'romantic',\n",
    "                        ]\n",
    "    hot_encoded_df = pd.get_dummies(df, columns = cols_to_transform)\n",
    "    \n",
    "    attributes = np.delete(hot_encoded_df.values, obj=num_cols-1, axis=1)\n",
    "    return attributes\n",
    "\n",
    "def normalizeData(train_data, test_data):\n",
    "    scaler = StandardScaler().fit(train_data)\n",
    "    train_data = scaler.transform(train_data)\n",
    "    test_data = scaler.transform(test_data)\n",
    "    \n",
    "    return train_data, test_data\n",
    "\n",
    "# shuffle dataset\n",
    "np.random.shuffle(dataset)\n",
    "\n",
    "# find col length\n",
    "num_cols = dataset.shape[1]\n",
    "\n",
    "# split one-hot encoded attributes (X) and G3 (Y)\n",
    "X = oneHotEncode(dataframe, num_cols)\n",
    "\n",
    "# select supervised approach for G3\n",
    "# Y = convertToBinary(dataframe, num_cols) # sets G3 to binary\n",
    "Y = convertToFiveLevel(dataframe, num_cols) # set G3 to five-level scale\n",
    "# Y = dataset[:,num_cols-1] # set G3 to current state for regression\n",
    "\n",
    "# after converting G3 set it to type int\n",
    "Y = Y.astype('int') "
   ]
  },
  {
   "cell_type": "code",
   "execution_count": 153,
   "metadata": {},
   "outputs": [
    {
     "data": {
      "text/plain": [
       "(649, 58)"
      ]
     },
     "execution_count": 153,
     "metadata": {},
     "output_type": "execute_result"
    }
   ],
   "source": [
    "# Y\n",
    "X.shape"
   ]
  },
  {
   "cell_type": "markdown",
   "metadata": {},
   "source": [
    "## Dimensionality Reduction\n",
    "* PCA & LDA reduction methods"
   ]
  },
  {
   "cell_type": "code",
   "execution_count": 154,
   "metadata": {},
   "outputs": [],
   "source": [
    "def pcaReduction(train_data, test_data, n_comp):\n",
    "    pca = PCA(n_components=n_comp)\n",
    "    train_data = pca.fit_transform(train_data)\n",
    "    test_data = pca.transform(test_data)\n",
    "    \n",
    "    return train_data, test_data\n",
    "\n",
    "def ldaReduction(train_data, train_target, test_data, n_comp):\n",
    "    lda = LinearDiscriminantAnalysis(n_components=n_comp)\n",
    "    train_data = lda.fit_transform(train_data, train_target)\n",
    "    test_data = lda.transform(test_data)\n",
    "    \n",
    "    return train_data, test_data\n"
   ]
  },
  {
   "cell_type": "markdown",
   "metadata": {},
   "source": [
    "## Validation Methods\n",
    "* k-Fold cross validation & Leave-one-out validation\n",
    "* data gets normalized here"
   ]
  },
  {
   "cell_type": "code",
   "execution_count": 155,
   "metadata": {},
   "outputs": [],
   "source": [
    "# method to calculate precision, accuracy, confusion matrix\n",
    "def calcMetric(actual, predicted):\n",
    "# return precision_score(actual, predicted)\n",
    "# return confusion_matrix(actual, predicted)\n",
    "    return accuracy_score(actual, predicted, normalize = True)\n",
    "\n",
    "def kFoldValidation(n_comp, penalty, n_splits=10):\n",
    "    kFold = KFold(n_splits=n_splits)\n",
    "    \n",
    "    # run on test data\n",
    "    test_results = []\n",
    "    train_results = []\n",
    "    log_loss_results = []\n",
    "    \n",
    "    for train_index, test_index in kFold.split(X):\n",
    "        X_train, X_test = X[train_index], X[test_index]\n",
    "        Y_train, Y_test = Y[train_index], Y[test_index]\n",
    "        \n",
    "        # normalize data\n",
    "        X_train, X_test = normalizeData(X_train, X_test)\n",
    "        \n",
    "        # reduce dimensionality - comment out both to select none\n",
    "        X_train, X_test = pcaReduction(X_train, X_test, n_comp)  # select PCA\n",
    "#         X_train, X_test = ldaReduction(X_train, Y_train, X_test, n_comp)  # select LDA\n",
    "        \n",
    "        # build classifier for each set\n",
    "        clf = buildClf(X_train, Y_train, penalty)\n",
    "        \n",
    "        predicted = clf.predict(X_test)\n",
    "        test_accuracy = calcMetric(Y_test, predicted)\n",
    "        predicted = clf.predict(X_train)\n",
    "        train_accuracy = calcMetric(Y_train, predicted)\n",
    "        \n",
    "        # log loss calculation\n",
    "        log_loss_results.append(log_loss(Y_test, clf.predict_proba(X_test)))\n",
    "        \n",
    "        test_results.append(test_accuracy)\n",
    "        train_results.append(train_accuracy)\n",
    "        \n",
    "    return np.mean(train_results, axis = 0), np.mean(test_results, axis = 0), np.mean(log_loss_results, axis = 0)\n",
    "\n",
    "def looValidation(n_comp, penalty):\n",
    "    loo = LeaveOneOut()\n",
    "    \n",
    "    # run on test data\n",
    "    test_results = []\n",
    "    train_results = []\n",
    "    Y_test_prob = []\n",
    "    \n",
    "    for train_index, test_index in loo.split(X):\n",
    "        X_train, X_test = X[train_index], X[test_index]\n",
    "        Y_train, Y_test = Y[train_index], Y[test_index]\n",
    "        \n",
    "        # normalize data\n",
    "        X_train, X_test = normalizeData(X_train, X_test)\n",
    "        \n",
    "        # reduce dimensionality - comment out both to select none\n",
    "        X_train, X_test = pcaReduction(X_train, X_test, n_comp)  # select PCA\n",
    "#         X_train, X_test = ldaReduction(X_train, Y_train, X_test, n_comp)  # select LDA\n",
    "        \n",
    "        # build classifier for each set\n",
    "        clf = buildClf(X_train, Y_train, penalty)\n",
    "        \n",
    "        predicted = clf.predict(X_test)\n",
    "        test_accuracy = calcMetric(Y_test, predicted)\n",
    "        predicted = clf.predict(X_train)\n",
    "        train_accuracy = calcMetric(Y_train, predicted)\n",
    "        \n",
    "        # save probability for log loss calculation\n",
    "        Y_test_prob.append(clf.predict_proba(X_test)[0])\n",
    "            \n",
    "        test_results.append(test_accuracy)\n",
    "        train_results.append(train_accuracy)\n",
    "    \n",
    "    # log loss calculation\n",
    "    log_loss_value = log_loss(Y, Y_test_prob)\n",
    "\n",
    "    return np.mean(train_results, axis = 0), np.mean(test_results, axis = 0), log_loss_value"
   ]
  },
  {
   "cell_type": "markdown",
   "metadata": {},
   "source": [
    "## Classifier Selection\n",
    "* Select classifer to validate"
   ]
  },
  {
   "cell_type": "code",
   "execution_count": 156,
   "metadata": {},
   "outputs": [],
   "source": [
    "# method to build classifier\n",
    "def buildClf(train_data, train_target, penalty):\n",
    "    \n",
    "    model = SVC(C=penalty, probability=True, kernel='rbf',gamma=0.0001)\n",
    "#     model = DecisionTreeClassifier(max_depth = None, max_features = penalty, criterion = \"entropy\")\n",
    "#     model = RandomForestClassifier(n_estimators = penalty, max_features=450, criterion = \"entropy\")\n",
    "#     model = KNeighborsClassifier(n_neighbors=penalty, p=1)\n",
    "#     model = BaggingClassifier(DecisionTreeClassifier(max_features = penalty, criterion = \"entropy\"), max_samples=0.5, max_features=6)\n",
    "    \n",
    "    model.fit(train_data, train_target)\n",
    "    return model"
   ]
  },
  {
   "cell_type": "markdown",
   "metadata": {},
   "source": [
    "## Obtain Accuracy, Log Loss & Error\n",
    "* Select k-Fold, loo validation, or run both\n",
    "* Adjust array of penalty parameters\n",
    "* Graphs error and log loss"
   ]
  },
  {
   "cell_type": "code",
   "execution_count": 157,
   "metadata": {},
   "outputs": [
    {
     "name": "stderr",
     "output_type": "stream",
     "text": [
      "/anaconda3/lib/python3.6/site-packages/sklearn/utils/validation.py:475: DataConversionWarning: Data with input dtype int64 was converted to float64 by StandardScaler.\n",
      "  warnings.warn(msg, DataConversionWarning)\n"
     ]
    },
    {
     "name": "stdout",
     "output_type": "stream",
     "text": [
      "-----C=1-----\n",
      "-----Train-----\n",
      "Accuracy: 0.30970724191063176\n",
      "-----Test-----\n",
      "Accuracy: 0.30970724191063176\n",
      "Log Loss: 0.8398001706383842\n",
      "\n",
      "-----C=10-----\n",
      "-----Train-----\n",
      "Accuracy: 0.607668017272537\n",
      "-----Test-----\n",
      "Accuracy: 0.5377503852080123\n",
      "Log Loss: 0.7921119045184242\n",
      "\n",
      "-----C=100-----\n",
      "-----Train-----\n",
      "Accuracy: 0.8581269379291979\n",
      "-----Test-----\n",
      "Accuracy: 0.7688751926040062\n",
      "Log Loss: 0.5457089765678634\n",
      "\n",
      "-----C=1000-----\n",
      "-----Train-----\n",
      "Accuracy: 0.96410669786376\n",
      "-----Test-----\n",
      "Accuracy: 0.8690292758089369\n",
      "Log Loss: 0.3401287304705243\n",
      "\n",
      "-----C=10000-----\n",
      "-----Train-----\n",
      "Accuracy: 1.0\n",
      "-----Test-----\n",
      "Accuracy: 0.9691833590138675\n",
      "Log Loss: 0.12772324249354777\n",
      "\n"
     ]
    },
    {
     "data": {
      "image/png": "[encoded data removed]",
      "text/plain": [
       "<matplotlib.figure.Figure at 0x1a18676b70>"
      ]
     },
     "metadata": {},
     "output_type": "display_data"
    }
   ],
   "source": [
    "# input reduced dimension\n",
    "n_comp = 50\n",
    "\n",
    "# input penalty iterations - can tune other params in classifer selection method above\n",
    "hyperparams = [1, 10, 100, 1000, 10000]\n",
    "\n",
    "# select validation type\n",
    "# val_type = \"k-Fold\"\n",
    "val_type = \"loo\"\n",
    "\n",
    "# results array format: [[train], [test], [log loss]]\n",
    "results = [[],[],[]]\n",
    "\n",
    "for penalty in hyperparams:\n",
    "    # calculate train error, test error and log loss for specific param\n",
    "    if (val_type == \"k-Fold\"):\n",
    "        train_res, test_res, log_loss_val = kFoldValidation(n_comp, penalty, 10)\n",
    "    elif (val_type == \"loo\"):\n",
    "        train_res, test_res, log_loss_val = looValidation(n_comp, penalty)\n",
    "    \n",
    "    # save error and log loss for each penalty for graph\n",
    "    results[0].append(1-train_res)\n",
    "    results[1].append(1-test_res)\n",
    "    results[2].append(log_loss_val)\n",
    "\n",
    "    print (\"-----C={}-----\".format(penalty))\n",
    "    print (\"-----Train-----\")\n",
    "    print (\"Accuracy: {}\".format(train_res))\n",
    "    print (\"-----Test-----\")\n",
    "    print (\"Accuracy: {}\".format(test_res))\n",
    "    print (\"Log Loss: {}\\n\".format(log_loss_val))\n",
    "    \n",
    "# create graph for penalty iterations\n",
    "f, axarr = plt.subplots(2, sharex=False)\n",
    "f.suptitle('Error and Log Loss - {}'.format(val_type), y = 0.92)\n",
    "f.set_size_inches(10, 10)\n",
    "\n",
    "# subplot 1: error plot\n",
    "axarr[0].set_ylabel('Error')\n",
    "axarr[0].plot(hyperparams, results[0], color='r', label='train')\n",
    "axarr[0].plot(hyperparams, results[1], color='b', label='test')\n",
    "axarr[0].set_xticks(hyperparams)\n",
    "axarr[0].legend()\n",
    "\n",
    "# subplot 2: log loss plot\n",
    "axarr[1].set_ylabel('Log Loss')\n",
    "axarr[1].plot(hyperparams, results[2], color='g', label='log loss')\n",
    "axarr[1].set_xticks(hyperparams)\n",
    "axarr[1].set_xlabel('Penalty')\n",
    "plt.show()"
   ]
  },
  {
   "cell_type": "code",
   "execution_count": null,
   "metadata": {},
   "outputs": [],
   "source": []
  }
 ],
 "metadata": {
  "kernelspec": {
   "display_name": "Python 3",
   "language": "python",
   "name": "python3"
  },
  "language_info": {
   "codemirror_mode": {
    "name": "ipython",
    "version": 3
   },
   "file_extension": ".py",
   "mimetype": "text/x-python",
   "name": "python",
   "nbconvert_exporter": "python",
   "pygments_lexer": "ipython3",
   "version": "3.6.3"
  }
 },
 "nbformat": 4,
 "nbformat_minor": 2
}
