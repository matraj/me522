{
 "cells": [
  {
   "cell_type": "markdown",
   "metadata": {},
   "source": [
    "# SYDE 522 Project Code\n",
    "Chang Li, Maathusan Rajendram, Anastasia Santasheva, Evan Yeung"
   ]
  },
  {
   "cell_type": "markdown",
   "metadata": {},
   "source": [
    "## Import and Load  Dataset\n",
    "* Select data set (Portugese course or Math course)"
   ]
  },
  {
   "cell_type": "code",
   "execution_count": 156,
   "metadata": {},
   "outputs": [
    {
     "data": {
      "text/plain": [
       "(649, 33)"
      ]
     },
     "execution_count": 156,
     "metadata": {},
     "output_type": "execute_result"
    }
   ],
   "source": [
    "# standard useful packages \n",
    "import numpy as np\n",
    "import pandas as pd\n",
    "import matplotlib.pyplot as plt\n",
    "\n",
    "# validation & normalization methods\n",
    "from sklearn.preprocessing import StandardScaler\n",
    "from sklearn.model_selection import train_test_split, KFold, LeaveOneOut\n",
    "\n",
    "# accuracy, error, log loss methods\n",
    "from sklearn.metrics import accuracy_score\n",
    "from sklearn.metrics import log_loss\n",
    "\n",
    "# dim reduction & classification methods \n",
    "from sklearn.decomposition import PCA\n",
    "from sklearn.discriminant_analysis import LinearDiscriminantAnalysis\n",
    "from sklearn.svm import SVC\n",
    "from sklearn.tree import DecisionTreeClassifier\n",
    "from sklearn.ensemble import RandomForestClassifier, AdaBoostClassifier, VotingClassifier\n",
    "\n",
    "# make matplotlib to show plots inline\n",
    "%matplotlib inline\n",
    "\n",
    "\n",
    "# import data from csv\n",
    "dataframe = pd.read_csv('student-por.csv', usecols = range(0,33)) # select Portugese course dataset\n",
    "# dataframe = pd.read_csv('student-mat.csv', usecols = range(0,33)) # select Math course dataset\n",
    "\n",
    "dataset = dataframe.values\n",
    "dataset.shape\n"
   ]
  },
  {
   "cell_type": "markdown",
   "metadata": {},
   "source": [
    "## Preprocessing\n",
    "\n",
    "* Convert nominal attributes with Integer + One-Hot Encoding\n",
    "* Convert G3 for difference supervised approaches\n",
    "* NOTE: if we want we can also split further into A,B,C (A= all cols, B=same as A without G2, C=same as B without G1)\n",
    "    * But leaving this out for now since we know A gives best accuracy"
   ]
  },
  {
   "cell_type": "code",
   "execution_count": 116,
   "metadata": {},
   "outputs": [],
   "source": [
    "# helper functions for preprocessing\n",
    "def convertToBinary(df, num_cols):\n",
    "    df.loc[(df.G3 < 10), 'G3'] = 0\n",
    "    df.loc[(df.G3 >= 10), 'G3'] = 1\n",
    "    \n",
    "    G3 = df.values[:,num_cols-1]\n",
    "    return G3\n",
    "\n",
    "def convertToFiveLevel(df, num_cols):\n",
    "    df.loc[(df.G3 <= 9), 'G3'] = 0\n",
    "    df.loc[(df.G3 > 9) & (df.G3 <= 11), 'G3'] = 1\n",
    "    df.loc[(df.G3 > 11) & (df.G3 <= 13), 'G3'] = 2\n",
    "    df.loc[(df.G3 > 13) & (df.G3 <= 16), 'G3'] = 3\n",
    "    df.loc[(df.G3 > 16), 'G3'] = 4\n",
    "    \n",
    "    G3 = df.values[:,num_cols-1]\n",
    "    return G3   \n",
    "\n",
    "def oneHotEncode(df, num_cols):\n",
    "    cols_to_transform = [\n",
    "                        'school',\n",
    "                        'sex',\n",
    "                        'address',\n",
    "                        'famsize',\n",
    "                        'Pstatus',\n",
    "                        'Mjob',                        \n",
    "                        'Fjob',\n",
    "                        'reason',\n",
    "                        'guardian',\n",
    "                        'famsup',\n",
    "                        'schoolsup',\n",
    "                        'paid',\n",
    "                        'activities',\n",
    "                        'nursery',                        \n",
    "                        'higher',\n",
    "                        'internet',\n",
    "                        'romantic',\n",
    "                        ]\n",
    "    hot_encoded_df = pd.get_dummies(df, columns = cols_to_transform)\n",
    "    \n",
    "    attributes = np.delete(hot_encoded_df.values, obj=num_cols-1, axis=1)\n",
    "    return attributes\n",
    "\n",
    "\n",
    "# shuffle dataset\n",
    "np.random.shuffle(dataset)\n",
    "\n",
    "# find col length\n",
    "num_cols = dataset.shape[1]\n",
    "\n",
    "# split one-hot encoded attributes (X) and G3 (Y)\n",
    "X = oneHotEncode(dataframe, num_cols)\n",
    "\n",
    "# select supervised approach for G3\n",
    "# Y = convertToBinary(dataframe, num_cols) # sets G3 to binary\n",
    "Y = convertToFiveLevel(dataframe, num_cols) # set G3 to five-level scale\n",
    "# Y = dataset[:,num_cols-1] # set G3 to current state for regression\n",
    "\n",
    "# after converting G3 set it to type int\n",
    "Y = Y.astype('int') "
   ]
  },
  {
   "cell_type": "code",
   "execution_count": 123,
   "metadata": {},
   "outputs": [
    {
     "data": {
      "text/plain": [
       "array([1, 1, 2, 3, 2, 2, 2, 2, 4, 2, 3, 2, 2, 2, 3, 4, 3, 3, 0, 2, 3, 2, 3,\n",
       "       1, 1, 2, 2, 1, 2, 2, 1, 3, 3, 2, 2, 1, 3, 2, 2, 2, 1, 1, 3, 1, 1, 1,\n",
       "       2, 4, 2, 2, 2, 3, 0, 2, 2, 2, 3, 3, 3, 3, 3, 3, 1, 2, 2, 3, 2, 1, 1,\n",
       "       3, 1, 1, 1, 3, 1, 1, 1, 2, 1, 1, 2, 0, 1, 2, 2, 2, 1, 3, 1, 1, 1, 2,\n",
       "       2, 3, 2, 2, 1, 2, 2, 2, 0, 3, 2, 1, 3, 1, 1, 3, 1, 3, 3, 1, 1, 4, 1,\n",
       "       3, 3, 3, 1, 3, 3, 2, 2, 2, 1, 0, 1, 1, 3, 2, 2, 0, 1, 2, 2, 3, 1, 1,\n",
       "       1, 3, 1, 2, 2, 1, 1, 1, 1, 3, 0, 1, 0, 2, 1, 2, 1, 0, 2, 1, 1, 2, 1,\n",
       "       0, 1, 0, 1, 2, 1, 2, 0, 1, 1, 1, 0, 1, 0, 0, 1, 0, 0, 0, 1, 4, 2, 4,\n",
       "       1, 4, 1, 2, 3, 1, 3, 1, 1, 2, 1, 2, 4, 3, 3, 3, 1, 3, 3, 1, 2, 2, 2,\n",
       "       1, 2, 3, 3, 2, 3, 1, 3, 2, 3, 2, 2, 0, 2, 3, 2, 2, 2, 2, 2, 1, 1, 3,\n",
       "       1, 1, 2, 2, 1, 2, 3, 1, 3, 0, 4, 1, 1, 3, 2, 2, 2, 3, 0, 2, 3, 1, 2,\n",
       "       1, 1, 0, 0, 0, 3, 1, 1, 2, 0, 0, 1, 3, 3, 3, 2, 3, 3, 2, 3, 1, 1, 1,\n",
       "       3, 1, 2, 0, 1, 1, 0, 1, 0, 2, 2, 1, 2, 4, 1, 1, 3, 3, 2, 3, 3, 1, 2,\n",
       "       2, 3, 1, 2, 2, 2, 0, 3, 3, 2, 3, 1, 2, 3, 2, 4, 3, 3, 2, 1, 2, 2, 3,\n",
       "       1, 1, 1, 1, 2, 4, 2, 3, 3, 2, 4, 3, 3, 4, 3, 4, 4, 3, 3, 2, 3, 4, 4,\n",
       "       3, 2, 0, 3, 4, 1, 3, 1, 1, 3, 3, 4, 4, 3, 4, 3, 1, 2, 3, 4, 4, 2, 3,\n",
       "       1, 1, 0, 1, 2, 1, 4, 3, 3, 2, 4, 1, 2, 3, 1, 2, 1, 1, 3, 3, 2, 2, 3,\n",
       "       3, 3, 3, 3, 2, 4, 3, 3, 4, 4, 3, 2, 3, 3, 1, 2, 2, 2, 3, 4, 3, 4, 1,\n",
       "       3, 1, 4, 4, 3, 1, 4, 1, 2, 1, 2, 1, 1, 4, 0, 1, 1, 1, 0, 3, 1, 1, 0,\n",
       "       2, 2, 3, 0, 0, 3, 0, 1, 0, 1, 0, 4, 2, 3, 1, 1, 0, 0, 0, 3, 1, 2, 1,\n",
       "       1, 3, 3, 2, 1, 0, 1, 3, 2, 2, 2, 2, 3, 1, 1, 3, 0, 1, 0, 1, 1, 1, 0,\n",
       "       1, 0, 1, 1, 1, 0, 1, 1, 0, 1, 1, 0, 2, 3, 1, 3, 3, 0, 2, 0, 3, 2, 1,\n",
       "       1, 1, 0, 4, 4, 1, 0, 0, 0, 1, 3, 3, 0, 0, 0, 1, 0, 0, 0, 3, 3, 1, 0,\n",
       "       1, 0, 1, 0, 3, 2, 1, 3, 2, 1, 1, 1, 1, 2, 0, 2, 0, 3, 1, 1, 4, 2, 2,\n",
       "       1, 2, 1, 2, 1, 1, 1, 2, 1, 1, 2, 0, 1, 0, 0, 0, 0, 0, 0, 0, 0, 1, 1,\n",
       "       1, 1, 1, 1, 0, 1, 0, 0, 0, 1, 0, 0, 0, 0, 1, 0, 3, 2, 3, 4, 4, 4, 0,\n",
       "       1, 3, 3, 1, 2, 0, 1, 0, 4, 2, 1, 2, 0, 3, 1, 1, 2, 3, 3, 4, 3, 2, 3,\n",
       "       2, 0, 3, 0, 1, 0, 1, 2, 0, 4, 2, 0, 3, 3, 0, 4, 0, 3, 0, 0, 3, 1, 1,\n",
       "       1, 3, 0, 1, 1])"
      ]
     },
     "execution_count": 123,
     "metadata": {},
     "output_type": "execute_result"
    }
   ],
   "source": [
    "# Y\n",
    "# X"
   ]
  },
  {
   "cell_type": "markdown",
   "metadata": {},
   "source": [
    "## Dimensionality Reduction\n",
    "* PCA & LDA"
   ]
  },
  {
   "cell_type": "code",
   "execution_count": null,
   "metadata": {},
   "outputs": [],
   "source": []
  },
  {
   "cell_type": "markdown",
   "metadata": {},
   "source": [
    "## Validation Methods\n",
    "* k-Fold cross validation & Leave-one-out validation"
   ]
  },
  {
   "cell_type": "code",
   "execution_count": 108,
   "metadata": {},
   "outputs": [],
   "source": [
    "# method to calculate precision, accuracy, confusion matrix\n",
    "def calcMetric(actual, predicted):\n",
    "# return precision_score(actual, predicted)\n",
    "# return confusion_matrix(actual, predicted)\n",
    "    return accuracy_score(actual, predicted, normalize = True)\n",
    "\n",
    "# method for k-fold cross validation\n",
    "def kFoldValidation(penalty, n_splits=10):\n",
    "    kFold = KFold(n_splits=n_splits)\n",
    "    \n",
    "    # run on test data\n",
    "    test_results = []\n",
    "    train_results = []\n",
    "    log_loss_results = []\n",
    "    \n",
    "    for train_index, test_index in kFold.split(X):\n",
    "        X_train, X_test = X[train_index], X[test_index]\n",
    "        Y_train, Y_test = Y[train_index], Y[test_index]\n",
    "        \n",
    "        # normalize data\n",
    "        scaler = StandardScaler().fit(X_train)\n",
    "        X_train = scaler.transform(X_train)\n",
    "        X_test = scaler.transform(X_test)\n",
    "        \n",
    "        # reduce dimensionality\n",
    "        \n",
    "        \n",
    "        # build classifier for each set\n",
    "        clf = buildClf(X_train, Y_train, penalty)\n",
    "        \n",
    "        predicted = clf.predict(X_test)\n",
    "        test_accuracy = calcMetric(Y_test, predicted)\n",
    "        predicted = clf.predict(X_train)\n",
    "        train_accuracy = calcMetric(Y_train, predicted)\n",
    "        \n",
    "        # log loss calculation\n",
    "        log_loss_results.append(log_loss(Y_test, clf.predict_proba(X_test)))\n",
    "        \n",
    "        test_results.append(test_accuracy)\n",
    "        train_results.append(train_accuracy)\n",
    "        \n",
    "    return np.mean(train_results, axis = 0), np.mean(test_results, axis = 0), np.mean(log_loss_results, axis = 0)\n",
    "\n",
    "# method for leave one out cross validation\n",
    "def looValidation(penalty):\n",
    "    loo = LeaveOneOut()\n",
    "    \n",
    "    # run on test data\n",
    "    test_results = []\n",
    "    train_results = []\n",
    "    Y_test_prob = []\n",
    "    \n",
    "    for train_index, test_index in loo.split(X):\n",
    "        X_train, X_test = X[train_index], X[test_index]\n",
    "        Y_train, Y_test = Y[train_index], Y[test_index]\n",
    "        \n",
    "        # normalize data\n",
    "        scaler = StandardScaler().fit(X_train)\n",
    "        X_train = scaler.transform(X_train)\n",
    "        X_test = scaler.transform(X_test)\n",
    "        \n",
    "        # reduce dimensionality\n",
    "        \n",
    "        # build classifier for each set\n",
    "        clf = buildClf(X_train, Y_train, penalty)\n",
    "        \n",
    "        predicted = clf.predict(X_test)\n",
    "        test_accuracy = calcMetric(Y_test, predicted)\n",
    "        predicted = clf.predict(X_train)\n",
    "        train_accuracy = calcMetric(Y_train, predicted)\n",
    "        \n",
    "        # save probability for log loss calculation\n",
    "        Y_test_prob.append(clf.predict_proba(X_test)[0])\n",
    "            \n",
    "        test_results.append(test_accuracy)\n",
    "        train_results.append(train_accuracy)\n",
    "    \n",
    "    # log loss calculation\n",
    "    log_loss_value = log_loss(Y, Y_test_prob)\n",
    "\n",
    "    return np.mean(train_results, axis = 0), np.mean(test_results, axis = 0), log_loss_value"
   ]
  },
  {
   "cell_type": "markdown",
   "metadata": {},
   "source": [
    "## Classifier Selection\n",
    "* Select classifer to validate"
   ]
  },
  {
   "cell_type": "code",
   "execution_count": 109,
   "metadata": {},
   "outputs": [],
   "source": [
    "# method to build classifier\n",
    "def buildClf(train_data, train_target, penalty):\n",
    "    \n",
    "    model = SVC(C=penalty, probability=True, kernel='rbf',gamma=0.0001)\n",
    "#     model = DecisionTreeClassifier(max_depth = None, max_features = penalty, criterion = \"entropy\")\n",
    "#     model = RandomForestClassifier(n_estimators = penalty, max_features=450, criterion = \"entropy\")\n",
    "#     model = KNeighborsClassifier(n_neighbors=penalty, p=1)\n",
    "#     model = BaggingClassifier(DecisionTreeClassifier(max_features = penalty, criterion = \"entropy\"), max_samples=0.5, max_features=6)\n",
    "\n",
    "    \n",
    "    model.fit(train_data, train_target)\n",
    "    return model"
   ]
  },
  {
   "cell_type": "markdown",
   "metadata": {},
   "source": [
    "## Obtain Accuracy, Log Loss & Error\n",
    "* Select k-Fold, loo validation, or run both\n",
    "* Adjust array of penalty parameters\n",
    "* Graphs error and log loss"
   ]
  },
  {
   "cell_type": "code",
   "execution_count": 158,
   "metadata": {},
   "outputs": [
    {
     "name": "stderr",
     "output_type": "stream",
     "text": [
      "/anaconda3/lib/python3.6/site-packages/sklearn/utils/validation.py:475: DataConversionWarning: Data with input dtype int64 was converted to float64 by StandardScaler.\n",
      "  warnings.warn(msg, DataConversionWarning)\n"
     ]
    },
    {
     "name": "stdout",
     "output_type": "stream",
     "text": [
      "-----Train-----\n",
      "K-Fold Accuracy: 0.3097055379932092\n",
      "-----Test-----\n",
      "K-Fold Accuracy: 0.30956730769230767\n",
      "K-Fold Log Loss: 0.8593064587377391\n"
     ]
    }
   ],
   "source": [
    "# set the penalty parameter for \n",
    "penalty = 1\n",
    "\n",
    "kFold_train, kFold_test, kFold_log_loss = kFoldValidation(penalty, 10)\n",
    "# loo_train, loo_test, loo_log_loss = looValidation(penalty)\n",
    "\n",
    "print (\"-----Train-----\")\n",
    "print (\"K-Fold Accuracy: {}\".format(kFold_train))\n",
    "print (\"-----Test-----\")\n",
    "print (\"K-Fold Accuracy: {}\".format(kFold_test))\n",
    "print (\"K-Fold Log Loss: {}\".format(kFold_log_loss))\n",
    "\n",
    "# print (\"---------------\")\n",
    "# print (\"-----Train-----\")\n",
    "# print (\"LOO Accuracy: {}\".format(loo_train))\n",
    "# print (\"-----Test-----\")\n",
    "# print (\"LOO Accuracy: {}\".format(loo_test))\n",
    "# print (\"LOO Log Loss: {}\".format(loo_log_loss))\n"
   ]
  },
  {
   "cell_type": "code",
   "execution_count": 173,
   "metadata": {},
   "outputs": [
    {
     "name": "stderr",
     "output_type": "stream",
     "text": [
      "/anaconda3/lib/python3.6/site-packages/sklearn/utils/validation.py:475: DataConversionWarning: Data with input dtype int64 was converted to float64 by StandardScaler.\n",
      "  warnings.warn(msg, DataConversionWarning)\n"
     ]
    },
    {
     "name": "stdout",
     "output_type": "stream",
     "text": [
      "-----C=1-----\n",
      "-----Train-----\n",
      "Accuracy: 0.3097055379932092\n",
      "-----Test-----\n",
      "Accuracy: 0.30956730769230767\n",
      "Log Loss: 0.8660291114007042\n",
      "\n",
      "-----C=10-----\n",
      "-----Train-----\n",
      "Accuracy: 0.579694122468095\n",
      "-----Test-----\n",
      "Accuracy: 0.48841346153846155\n",
      "Log Loss: 0.8173624366331074\n",
      "\n",
      "-----C=100-----\n",
      "-----Train-----\n",
      "Accuracy: 0.8496806580025759\n",
      "-----Test-----\n",
      "Accuracy: 0.7427644230769231\n",
      "Log Loss: 0.5896468288930877\n",
      "\n",
      "-----C=1000-----\n",
      "-----Train-----\n",
      "Accuracy: 0.9616479334972485\n",
      "-----Test-----\n",
      "Accuracy: 0.8398076923076923\n",
      "Log Loss: 0.3745492972226826\n",
      "\n",
      "-----C=10000-----\n",
      "-----Train-----\n",
      "Accuracy: 1.0\n",
      "-----Test-----\n",
      "Accuracy: 0.955264423076923\n",
      "Log Loss: 0.16006261458877633\n",
      "\n"
     ]
    },
    {
     "data": {
      "image/png": "[encoded data removed]",
      "text/plain": [
       "<matplotlib.figure.Figure at 0x1a17b964a8>"
      ]
     },
     "metadata": {},
     "output_type": "display_data"
    }
   ],
   "source": [
    "# results array format: [[train], [test], [log loss]]\n",
    "results = [[],[],[]]\n",
    "\n",
    "# input penalty iterations\n",
    "hyperparams = [1, 10, 100, 1000, 10000]\n",
    "\n",
    "# select validation type\n",
    "val_type = \"k-Fold\"\n",
    "# val_type = \"loo\"\n",
    "\n",
    "for penalty in hyperparams:\n",
    "    # calculate train error, test error and log loss for specific param\n",
    "    if (val_type == \"k-Fold\"):\n",
    "        train_res, test_res, log_loss_val = kFoldValidation(penalty, 10)\n",
    "    else:\n",
    "        train_res, test_res, log_loss_val = looValidation(penalty)\n",
    "    \n",
    "    # save error and log loss for each penalty for graph\n",
    "    results[0].append(1-train_res)\n",
    "    results[1].append(1-test_res)\n",
    "    results[2].append(log_loss_val)\n",
    "\n",
    "    print (\"-----C={}-----\".format(penalty))\n",
    "    print (\"-----Train-----\")\n",
    "    print (\"Accuracy: {}\".format(train_res))\n",
    "    print (\"-----Test-----\")\n",
    "    print (\"Accuracy: {}\".format(test_res))\n",
    "    print (\"Log Loss: {}\\n\".format(log_loss_val))\n",
    "    \n",
    "# create graph for penalty iterations\n",
    "f, axarr = plt.subplots(2, sharex=False)\n",
    "f.suptitle('Error and Log Loss - {}'.format(val_type), y = 0.92)\n",
    "f.set_size_inches(10, 10)\n",
    "\n",
    "# subplot 1: error plot\n",
    "axarr[0].set_ylabel('Error')\n",
    "axarr[0].plot(hyperparams, results[0], color='r', label='train')\n",
    "axarr[0].plot(hyperparams, results[1], color='b', label='test')\n",
    "axarr[0].set_xticks(hyperparams)\n",
    "axarr[0].legend()\n",
    "\n",
    "# subplot 2: log loss plot\n",
    "axarr[1].set_ylabel('Log Loss')\n",
    "axarr[1].plot(hyperparams, results[2], color='g', label='log loss')\n",
    "axarr[1].set_xticks(hyperparams)\n",
    "axarr[1].set_xlabel('Penalty')\n",
    "plt.show()"
   ]
  },
  {
   "cell_type": "code",
   "execution_count": null,
   "metadata": {},
   "outputs": [],
   "source": []
  }
 ],
 "metadata": {
  "kernelspec": {
   "display_name": "Python 3",
   "language": "python",
   "name": "python3"
  },
  "language_info": {
   "codemirror_mode": {
    "name": "ipython",
    "version": 3
   },
   "file_extension": ".py",
   "mimetype": "text/x-python",
   "name": "python",
   "nbconvert_exporter": "python",
   "pygments_lexer": "ipython3",
   "version": "3.6.3"
  }
 },
 "nbformat": 4,
 "nbformat_minor": 2
}
