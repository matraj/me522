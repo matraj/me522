{
 "cells": [
  {
   "cell_type": "markdown",
   "metadata": {},
   "source": [
    "# SYDE 522 Project Code\n",
    "Chang Li, Maathusan Rajendram, Anastasia Santasheva, Evan Yeung"
   ]
  },
  {
   "cell_type": "markdown",
   "metadata": {},
   "source": [
    "## Import Packages\n"
   ]
  },
  {
   "cell_type": "code",
   "execution_count": 49,
   "metadata": {},
   "outputs": [],
   "source": [
    "# standard useful packages \n",
    "import numpy as np\n",
    "import pandas as pd\n",
    "import matplotlib.pyplot as plt\n",
    "\n",
    "# validation & normalization methods\n",
    "from sklearn.preprocessing import StandardScaler\n",
    "from sklearn.model_selection import train_test_split, KFold, LeaveOneOut\n",
    "\n",
    "# accuracy, MSE, log loss & timer methods\n",
    "from sklearn.metrics import accuracy_score\n",
    "from sklearn.metrics import mean_squared_error\n",
    "from sklearn.metrics import log_loss\n",
    "from time import time\n",
    "\n",
    "# dim reduction & classification methods \n",
    "from sklearn.decomposition import PCA\n",
    "from sklearn.discriminant_analysis import LinearDiscriminantAnalysis\n",
    "from sklearn.ensemble import VotingClassifier\n",
    "from sklearn.naive_bayes import GaussianNB\n",
    "from sklearn.svm import SVC\n",
    "from sklearn.svm import SVR\n",
    "from sklearn.neural_network import MLPClassifier\n",
    "from sklearn.tree import DecisionTreeClassifier\n",
    "from sklearn.ensemble import RandomForestClassifier, AdaBoostClassifier, VotingClassifier\n",
    "\n",
    "# make matplotlib to show plots inline\n",
    "%matplotlib inline\n"
   ]
  },
  {
   "cell_type": "markdown",
   "metadata": {},
   "source": [
    "## Set Configuration\n",
    "* Select options for method validation\n",
    "* Set parameters"
   ]
  },
  {
   "cell_type": "code",
   "execution_count": 43,
   "metadata": {},
   "outputs": [],
   "source": [
    "# 1. set dataset\n",
    "ENABLE_POR_DATA = True     # set Portugese course dataset\n",
    "ENABLE_MAT_DATA = False    # set Math course dataset\n",
    "\n",
    "# 2. set supervised approach for G3\n",
    "ENABLE_BINARY_TARGET = False       # sets G3 to binary\n",
    "ENABLE_5LEVEL_TARGET = False        # set G3 to five-level scale\n",
    "ENABLE_REGRESSION_TARGET = True   # set G3 to current state for regression\n",
    "\n",
    "# 3. set dimensionaltiy reduction method - set both to false for none\n",
    "ENABLE_PCN = False\n",
    "ENABLE_LDA = False\n",
    "\n",
    "# 4. set validation type\n",
    "ENABLE_KFOLD = True\n",
    "ENABLE_LOO = False\n"
   ]
  },
  {
   "cell_type": "markdown",
   "metadata": {},
   "source": [
    "## Load  Dataset\n",
    "* Select a data set (Portugese course or Math course)"
   ]
  },
  {
   "cell_type": "code",
   "execution_count": 44,
   "metadata": {},
   "outputs": [
    {
     "data": {
      "text/plain": [
       "((519, 33), (130, 33))"
      ]
     },
     "execution_count": 44,
     "metadata": {},
     "output_type": "execute_result"
    }
   ],
   "source": [
    "# import data from csv\n",
    "if (ENABLE_POR_DATA):\n",
    "    dataframe = pd.read_csv('student-por-train.csv', usecols = range(0,33)) \n",
    "    dataframe_test = pd.read_csv('student-por-test.csv', usecols = range(0,33)) \n",
    "elif (ENABLE_MAT_DATA): \n",
    "    dataframe = pd.read_csv('student-mat-train.csv', usecols = range(0,33))\n",
    "    dataframe_test = pd.read_csv('student-mat-test.csv', usecols = range(0,33))\n",
    "\n",
    "dataset = dataframe.values\n",
    "dataset_test = dataframe_test.values\n",
    "dataset.shape, dataset_test.shape"
   ]
  },
  {
   "cell_type": "markdown",
   "metadata": {},
   "source": [
    "## Preprocessing\n",
    "\n",
    "* Convert nominal attributes with Integer + One-Hot Encoding\n",
    "* Selects supervised approache for G3\n",
    "* NOTE: if we want we can also split further into A,B,C (A= all cols, B=same as A without G2, C=same as B without G1)\n",
    "    * But leaving this out for now since we know A gives best accuracy"
   ]
  },
  {
   "cell_type": "code",
   "execution_count": 45,
   "metadata": {
    "scrolled": false
   },
   "outputs": [],
   "source": [
    "# helper functions for preprocessing\n",
    "def convertToBinary(df, num_cols):\n",
    "    df.loc[(df.G3 < 10), 'G3'] = 0\n",
    "    df.loc[(df.G3 >= 10), 'G3'] = 1\n",
    "    \n",
    "    G3 = df.values[:,num_cols-1]\n",
    "    return G3\n",
    "\n",
    "def convertToFiveLevel(df, num_cols):\n",
    "    df.loc[(df.G3 <= 9), 'G3'] = 0\n",
    "    df.loc[(df.G3 > 9) & (df.G3 <= 11), 'G3'] = 1\n",
    "    df.loc[(df.G3 > 11) & (df.G3 <= 13), 'G3'] = 2\n",
    "    df.loc[(df.G3 > 13) & (df.G3 <= 16), 'G3'] = 3\n",
    "    df.loc[(df.G3 > 16), 'G3'] = 4\n",
    "    \n",
    "    G3 = df.values[:,num_cols-1]\n",
    "    return G3   \n",
    "\n",
    "def oneHotEncode(df, num_cols):\n",
    "    df = df.drop(labels='G3', axis=1)\n",
    "    cols_to_transform = [\n",
    "                        'school',\n",
    "                        'sex',\n",
    "                        'address',\n",
    "                        'famsize',\n",
    "                        'Pstatus',\n",
    "                        'Mjob',                        \n",
    "                        'Fjob',\n",
    "                        'reason',\n",
    "                        'guardian',\n",
    "                        'famsup',\n",
    "                        'schoolsup',\n",
    "                        'paid',\n",
    "                        'activities',\n",
    "                        'nursery',                        \n",
    "                        'higher',\n",
    "                        'internet',\n",
    "                        'romantic',\n",
    "                        ]\n",
    "    hot_encoded_df = pd.get_dummies(df, columns = cols_to_transform)\n",
    "    \n",
    "    attributes = hot_encoded_df.values\n",
    "    return attributes\n",
    "\n",
    "def normalizeData(train_data, val_data, test_data):\n",
    "    scaler = StandardScaler().fit(train_data)\n",
    "    train_data = scaler.transform(train_data)\n",
    "    val_data = scaler.transform(val_data)\n",
    "    test_data = scaler.transform(test_data)\n",
    "    \n",
    "    return train_data, val_data, test_data\n",
    "\n",
    "# shuffle dataset\n",
    "np.random.shuffle(dataset)\n",
    "\n",
    "# find col length\n",
    "num_cols = dataset.shape[1]\n",
    "\n",
    "# split one-hot encoded attributes (X) and G3 (Y)\n",
    "X = oneHotEncode(dataframe, num_cols)\n",
    "X_tst = oneHotEncode(dataframe_test, num_cols)\n",
    "\n",
    "# selects supervised approach for G3\n",
    "if (ENABLE_BINARY_TARGET):\n",
    "    Y = convertToBinary(dataframe, num_cols).astype('int')\n",
    "    Y_tst = convertToBinary(dataframe_test, num_cols).astype('int')\n",
    "elif (ENABLE_5LEVEL_TARGET):\n",
    "    Y = convertToFiveLevel(dataframe, num_cols).astype('int')\n",
    "    Y_tst = convertToFiveLevel(dataframe_test, num_cols).astype('int')\n",
    "elif (ENABLE_REGRESSION_TARGET):\n",
    "    Y = dataset[:,num_cols-1].astype('int')\n",
    "    Y_tst = dataset_test[:,num_cols-1].astype('int')\n",
    "    "
   ]
  },
  {
   "cell_type": "code",
   "execution_count": 48,
   "metadata": {},
   "outputs": [
    {
     "data": {
      "text/plain": [
       "((519, 58), (519,), (130, 58), (130,))"
      ]
     },
     "execution_count": 48,
     "metadata": {},
     "output_type": "execute_result"
    }
   ],
   "source": [
    "# Y\n",
    "X.shape, Y.shape, X_tst.shape, Y_tst.shape"
   ]
  },
  {
   "cell_type": "markdown",
   "metadata": {},
   "source": [
    "## Dimensionality Reduction\n",
    "* PCA & LDA reduction methods"
   ]
  },
  {
   "cell_type": "code",
   "execution_count": 50,
   "metadata": {},
   "outputs": [],
   "source": [
    "def pcaReduction(train_data, val_data, test_data, n_comp):\n",
    "    pca = PCA(n_components=n_comp)\n",
    "    train_data = pca.fit_transform(train_data)\n",
    "    val_data = pca.transform(val_data)\n",
    "    test_data = pca.transform(test_data)\n",
    "    \n",
    "    return train_data, val_data, test_data\n",
    "\n",
    "def ldaReduction(train_data, train_target, val_data, test_data, n_comp):\n",
    "    lda = LinearDiscriminantAnalysis(n_components=n_comp)\n",
    "    train_data = lda.fit_transform(train_data, train_target)\n",
    "    val_data = lda.transform(val_data)\n",
    "    test_data = lda.transform(test_data)\n",
    "    \n",
    "    return train_data, val_data, test_data\n"
   ]
  },
  {
   "cell_type": "markdown",
   "metadata": {},
   "source": [
    "## Validation Methods\n",
    "* k-Fold cross validation & Leave-one-out validation\n",
    "* data gets normalized here"
   ]
  },
  {
   "cell_type": "code",
   "execution_count": 51,
   "metadata": {},
   "outputs": [],
   "source": [
    "# method to calculate accuracy (PCC) & RMSE\n",
    "def calcMetric(actual, predicted):\n",
    "    if(ENABLE_REGRESSION_TARGET): return (mean_squared_error(actual, predicted))**(0.5) # calculates RMSE\n",
    "    else: return accuracy_score(actual, predicted, normalize = True) # calculates PCC\n",
    "\n",
    "def kFoldValidation(n_comp, penalty, n_splits=10):\n",
    "    kFold = KFold(n_splits=n_splits)\n",
    "    \n",
    "    # run on test data\n",
    "    test_results = []\n",
    "    val_results = []\n",
    "    train_results = []\n",
    "    log_loss_results = []\n",
    "    time_log = []\n",
    "    \n",
    "    for train_index, val_index in kFold.split(X):\n",
    "        #start timer, return avg time below\n",
    "        start = time()\n",
    "        \n",
    "        X_train, X_val, X_test = X[train_index], X[val_index], X_tst\n",
    "        Y_train, Y_val, Y_test = Y[train_index], Y[val_index], Y_tst\n",
    "        \n",
    "        # normalize data\n",
    "        X_train, X_val, X_test = normalizeData(X_train, X_val, X_test)\n",
    "        \n",
    "        # reduce dimensionality\n",
    "        if (ENABLE_PCN): X_train, X_val, X_test = pcaReduction(X_train, X_val, X_test, n_comp)\n",
    "        elif (ENABLE_LDA): X_train, X_val, X_test = ldaReduction(X_train, Y_train, X_val, X_test, n_comp)\n",
    "        \n",
    "        # build classifier for each set\n",
    "        clf = buildClf(X_train, Y_train, penalty)\n",
    "        \n",
    "        predicted = clf.predict(X_test)\n",
    "        test_accuracy = calcMetric(Y_test, predicted)\n",
    "        predicted = clf.predict(X_val)\n",
    "        val_accuracy = calcMetric(Y_val, predicted)\n",
    "        predicted = clf.predict(X_train)\n",
    "        train_accuracy = calcMetric(Y_train, predicted)\n",
    "        \n",
    "        # log loss calculation - for classification only\n",
    "        if(not ENABLE_REGRESSION_TARGET): log_loss_results.append(log_loss(Y_val, clf.predict_proba(X_val)))\n",
    "        \n",
    "        test_results.append(test_accuracy)\n",
    "        val_results.append(val_accuracy)\n",
    "        train_results.append(train_accuracy)\n",
    "        time_log.append(time()-start)\n",
    "        \n",
    "    return np.mean(train_results, axis = 0), np.mean(val_results, axis = 0), np.mean(test_results, axis = 0), np.mean(log_loss_results, axis = 0), np.mean(time_log, axis = 0)\n",
    "\n",
    "def looValidation(n_comp, penalty):\n",
    "    loo = LeaveOneOut()\n",
    "    \n",
    "    # run on test data\n",
    "    test_results = []\n",
    "    val_results = []\n",
    "    train_results = []\n",
    "    Y_test_prob = []\n",
    "    log_loss_value = 0\n",
    "    time_log = []\n",
    "    \n",
    "    for train_index, val_index in loo.split(X):\n",
    "        #start timer, return avg time below\n",
    "        start = time()\n",
    "        \n",
    "        X_train, X_val, X_test = X[train_index], X[val_index], X_tst\n",
    "        Y_train, Y_val, Y_test = Y[train_index], Y[val_index], Y_tst\n",
    "        \n",
    "        # normalize data\n",
    "        X_train, X_val, X_test = normalizeData(X_train, X_val, X_test)\n",
    "        \n",
    "        # reduce dimensionality\n",
    "        if (ENABLE_PCN): X_train, X_val, X_test = pcaReduction(X_train, X_val, X_test, n_comp)\n",
    "        elif (ENABLE_LDA): X_train, X_val, X_test = ldaReduction(X_train, Y_train, X_val, X_test, n_comp)\n",
    "        \n",
    "        # build classifier for each set\n",
    "        clf = buildClf(X_train, Y_train, penalty)\n",
    "        \n",
    "        predicted = clf.predict(X_test)\n",
    "        test_accuracy = calcMetric(Y_test, predicted)\n",
    "        predicted = clf.predict(X_val)\n",
    "        val_accuracy = calcMetric(Y_val, predicted)\n",
    "        predicted = clf.predict(X_train)\n",
    "        train_accuracy = calcMetric(Y_train, predicted)\n",
    "        \n",
    "        # save probability for log loss calculation\n",
    "        if(not ENABLE_REGRESSION_TARGET): Y_test_prob.append(clf.predict_proba(X_val)[0])\n",
    "            \n",
    "        test_results.append(test_accuracy)\n",
    "        val_results.append(val_accuracy)\n",
    "        train_results.append(train_accuracy)\n",
    "        time_log.append(time()-start)\n",
    "    \n",
    "    # log loss calculation - for classification only\n",
    "    if(not ENABLE_REGRESSION_TARGET): log_loss_value = log_loss(Y, Y_test_prob)\n",
    "\n",
    "    return np.mean(train_results, axis = 0), np.mean(val_results, axis = 0), np.mean(test_results, axis = 0), log_loss_value, np.mean(time_log, axis = 0)"
   ]
  },
  {
   "cell_type": "markdown",
   "metadata": {},
   "source": [
    "## Classifier Selection\n",
    "* Select classifer to validate"
   ]
  },
  {
   "cell_type": "code",
   "execution_count": 52,
   "metadata": {},
   "outputs": [],
   "source": [
    "def getVotingClassifier():\n",
    "    clf1 = SVC(C=10000, probability=True, kernel='rbf', gamma=0.0001)\n",
    "    clf2 = RandomForestClassifier(n_estimators = 100, criterion = \"entropy\")\n",
    "    clf3 = GaussianNB()\n",
    "\n",
    "    return VotingClassifier(estimators=[('svm', clf1), ('rf', clf2), ('gnb', clf3)], voting='soft')\n",
    "\n",
    "# method to build classifier\n",
    "def buildClf(train_data, train_target, penalty):\n",
    "    \n",
    "    if(ENABLE_REGRESSION_TARGET):\n",
    "        model = SVR(C=1.0, kernel='rbf', gamma=penalty) # for regression\n",
    "    else:\n",
    "        model = SVC(C=penalty, probability=True, kernel='linear')\n",
    "#         model = getVotingClassifier()\n",
    "#         model = GaussianNB()\n",
    "#         model = MLPClassifier(solver = 'lbfgs')\n",
    "#         model = DecisionTreeClassifier(max_depth = None, max_features = penalty, criterion = \"entropy\")\n",
    "#         model = RandomForestClassifier(n_estimators = penalty, max_features=450, criterion = \"entropy\")\n",
    "#         model = KNeighborsClassifier(n_neighbors=penalty, p=1)\n",
    "#         model = BaggingClassifier(DecisionTreeClassifier(max_features = penalty, criterion = \"entropy\"), max_samples=0.5, max_features=6)\n",
    "\n",
    "    model.fit(train_data, train_target)\n",
    "    return model"
   ]
  },
  {
   "cell_type": "markdown",
   "metadata": {},
   "source": [
    "## Obtain Accuracy, Log Loss & Error\n",
    "* Adjust array of penalty parameters\n",
    "* Graphs error and log loss - for classification only"
   ]
  },
  {
   "cell_type": "code",
   "execution_count": 65,
   "metadata": {
    "scrolled": false
   },
   "outputs": [
    {
     "name": "stderr",
     "output_type": "stream",
     "text": [
      "/anaconda3/lib/python3.6/site-packages/sklearn/utils/validation.py:475: DataConversionWarning: Data with input dtype int64 was converted to float64 by StandardScaler.\n",
      "  warnings.warn(msg, DataConversionWarning)\n",
      "/anaconda3/lib/python3.6/site-packages/numpy/core/fromnumeric.py:2909: RuntimeWarning: Mean of empty slice.\n",
      "  out=out, **kwargs)\n",
      "/anaconda3/lib/python3.6/site-packages/numpy/core/_methods.py:80: RuntimeWarning: invalid value encountered in double_scalars\n",
      "  ret = ret.dtype.type(ret / rcount)\n"
     ]
    },
    {
     "name": "stdout",
     "output_type": "stream",
     "text": [
      "-----C=0.001953125-----\n",
      "Time: 0.0517733097076416 seconds\n",
      "-----Train-----\n",
      "Accuracy/RMSE: 3.111122685809477\n",
      "-----Validation-----\n",
      "Accuracy/RMSE: 3.2107062003090183\n",
      "Log Loss: nan\n",
      "\n",
      "-----C=0.0078125-----\n",
      "Time: 0.04657905101776123 seconds\n",
      "-----Train-----\n",
      "Accuracy/RMSE: 2.975061293583207\n",
      "-----Validation-----\n",
      "Accuracy/RMSE: 3.2215770479904022\n",
      "Log Loss: nan\n",
      "\n",
      "-----C=0.03125-----\n",
      "Time: 0.051230454444885255 seconds\n",
      "-----Train-----\n",
      "Accuracy/RMSE: 2.6190548039596906\n",
      "-----Validation-----\n",
      "Accuracy/RMSE: 3.2029686000862205\n",
      "Log Loss: nan\n",
      "\n",
      "-----C=0.125-----\n",
      "Time: 0.05272941589355469 seconds\n",
      "-----Train-----\n",
      "Accuracy/RMSE: 2.5168979301827528\n",
      "-----Validation-----\n",
      "Accuracy/RMSE: 3.187252405394363\n",
      "Log Loss: nan\n",
      "\n",
      "-----C=0.5-----\n",
      "Time: 0.05706014633178711 seconds\n",
      "-----Train-----\n",
      "Accuracy/RMSE: 2.514715864451852\n",
      "-----Validation-----\n",
      "Accuracy/RMSE: 3.184364677858811\n",
      "Log Loss: nan\n",
      "\n"
     ]
    },
    {
     "data": {
      "image/png": "[encoded data removed]",
      "text/plain": [
       "<matplotlib.figure.Figure at 0x1a1a94e9e8>"
      ]
     },
     "metadata": {},
     "output_type": "display_data"
    }
   ],
   "source": [
    "# input reduced dimension - this can be ignored if none selected\n",
    "n_comp = 1\n",
    "\n",
    "# input penalty iterations - can tune other params in classifer selection method above\n",
    "# hyperparams = [None]\n",
    "# hyperparams = [1, 10, 100, 1000, 10000]\n",
    "hyperparams = [2**(-9), 2**(-7), 2**(-5), 2**(-3), 2**(-1)]\n",
    "\n",
    "# results array format: [[train], [validation], [test], [log loss]]\n",
    "results = [[],[],[],[]]\n",
    "\n",
    "# calculate train error, test error, log loss & time for specific param\n",
    "for penalty in hyperparams:\n",
    "    \n",
    "    if (ENABLE_KFOLD): train_res, val_res, test_res, log_loss_val, time_val = kFoldValidation(n_comp, penalty, 10)\n",
    "    elif (ENABLE_LOO): train_res, val_res, test_res, log_loss_val, time_val = looValidation(n_comp, penalty)\n",
    "    \n",
    "    # save error, RMSE, log loss for each penalty for graph\n",
    "    if (not ENABLE_REGRESSION_TARGET):\n",
    "        results[0].append(1-train_res)\n",
    "        results[1].append(1-val_res)\n",
    "        results[2].append(1-test_res)\n",
    "        results[3].append(log_loss_val)\n",
    "    elif (ENABLE_REGRESSION_TARGET):\n",
    "        results[0].append(train_res)\n",
    "        results[1].append(val_res)\n",
    "\n",
    "    print (\"-----C={}-----\".format(penalty))\n",
    "    print (\"Time: {} seconds\".format(time_val))\n",
    "    print (\"-----Train-----\")\n",
    "    print (\"Accuracy/RMSE: {}\".format(train_res))\n",
    "    print (\"-----Validation-----\")\n",
    "    print (\"Accuracy/RMSE: {}\".format(val_res))\n",
    "#     print (\"-----Test-----\")\n",
    "#     print (\"Accuracy/RMSE: {}\".format(test_res))\n",
    "    print (\"Log Loss: {}\\n\".format(log_loss_val))\n",
    "        \n",
    "# create error and log loss graph for penalty iterations - classification only\n",
    "if(not ENABLE_REGRESSION_TARGET and len(hyperparams) > 1):\n",
    "    f, axarr = plt.subplots(2, sharex=False)\n",
    "    f.suptitle('Error and Log Loss', y = 0.92)\n",
    "    f.set_size_inches(10, 10)\n",
    "\n",
    "    # subplot 1: error plot\n",
    "    axarr[0].set_ylabel('Error')\n",
    "    axarr[0].plot(hyperparams, results[0], color='r', label='train')\n",
    "    axarr[0].plot(hyperparams, results[1], color='b', label='validation')\n",
    "    axarr[0].set_xticks(hyperparams)\n",
    "    axarr[0].legend()\n",
    "\n",
    "    # subplot 2: log loss plot\n",
    "    axarr[1].set_ylabel('Log Loss')\n",
    "    axarr[1].plot(hyperparams, results[3], color='g', label='log loss')\n",
    "    axarr[1].set_xticks(hyperparams)\n",
    "    axarr[1].set_xlabel('Penalty')\n",
    "    plt.show()\n",
    "    \n",
    "# create RMSE graph for penalty iterations - regression only\n",
    "if(ENABLE_REGRESSION_TARGET and len(hyperparams) > 1):\n",
    "    f, axarr = plt.subplots(sharex=False)\n",
    "    f.suptitle('RMSE', y = 0.92)\n",
    "    f.set_size_inches(10, 5)\n",
    "\n",
    "    # subplot 1: RMSE plot\n",
    "    axarr.set_ylabel('RMSE')\n",
    "    axarr.plot(hyperparams, results[0], color='r', label='train')\n",
    "    axarr.plot(hyperparams, results[1], color='b', label='validation')\n",
    "    axarr.set_xticks(hyperparams)\n",
    "    axarr.set_xlabel('Parameter')\n",
    "    axarr.legend()\n",
    "    plt.show()"
   ]
  },
  {
   "cell_type": "markdown",
   "metadata": {},
   "source": [
    "## Ensemble Methods"
   ]
  },
  {
   "cell_type": "code",
   "execution_count": null,
   "metadata": {},
   "outputs": [],
   "source": []
  }
 ],
 "metadata": {
  "kernelspec": {
   "display_name": "Python 3",
   "language": "python",
   "name": "python3"
  },
  "language_info": {
   "codemirror_mode": {
    "name": "ipython",
    "version": 3
   },
   "file_extension": ".py",
   "mimetype": "text/x-python",
   "name": "python",
   "nbconvert_exporter": "python",
   "pygments_lexer": "ipython3",
   "version": "3.6.3"
  }
 },
 "nbformat": 4,
 "nbformat_minor": 2
}
