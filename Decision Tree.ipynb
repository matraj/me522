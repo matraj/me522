{
 "cells": [
  {
   "cell_type": "markdown",
   "metadata": {},
   "source": [
    "# SYDE 522 Project Code\n",
    "Chang Li, Maathusan Rajendram, Anastasia Santasheva, Evan Yeung"
   ]
  },
  {
   "cell_type": "markdown",
   "metadata": {},
   "source": [
    "## Import Packages\n"
   ]
  },
  {
   "cell_type": "code",
   "execution_count": 1,
   "metadata": {
    "collapsed": true
   },
   "outputs": [],
   "source": [
    "# standard useful packages \n",
    "import numpy as np\n",
    "import pandas as pd\n",
    "import matplotlib.pyplot as plt\n",
    "\n",
    "# validation & normalization methods\n",
    "from sklearn.preprocessing import StandardScaler\n",
    "from sklearn.model_selection import train_test_split, KFold, LeaveOneOut\n",
    "\n",
    "# accuracy, MSE, log loss & timer methods\n",
    "from sklearn.metrics import accuracy_score\n",
    "from sklearn.metrics import mean_squared_error\n",
    "from sklearn.metrics import log_loss\n",
    "from time import time\n",
    "\n",
    "# dim reduction & classification methods \n",
    "from sklearn.decomposition import PCA\n",
    "from sklearn.discriminant_analysis import LinearDiscriminantAnalysis\n",
    "from sklearn.svm import SVC\n",
    "from sklearn.svm import SVR\n",
    "from sklearn.tree import DecisionTreeClassifier\n",
    "from sklearn import tree\n",
    "from sklearn.ensemble import RandomForestClassifier, AdaBoostClassifier, VotingClassifier\n",
    "\n",
    "# make matplotlib to show plots inline\n",
    "%matplotlib inline\n"
   ]
  },
  {
   "cell_type": "markdown",
   "metadata": {},
   "source": [
    "## Set Configuration\n",
    "* Select options for method validation\n",
    "* Set parameters"
   ]
  },
  {
   "cell_type": "code",
   "execution_count": 2,
   "metadata": {
    "collapsed": true
   },
   "outputs": [],
   "source": [
    "# 1. set dataset\n",
    "ENABLE_POR_DATA = True     # set Portugese course dataset\n",
    "ENABLE_MAT_DATA = False    # set Math course dataset\n",
    "\n",
    "# 2. set supervised approach for G3\n",
    "ENABLE_BINARY_TARGET = True       # sets G3 to binary\n",
    "ENABLE_5LEVEL_TARGET = False        # set G3 to five-level scale\n",
    "ENABLE_REGRESSION_TARGET = False   # set G3 to current state for regression\n",
    "\n",
    "# 3. set dimensionaltiy reduction method - set both to false for none\n",
    "ENABLE_PCN = False\n",
    "ENABLE_LDA = False\n",
    "\n",
    "# 4. set validation type\n",
    "ENABLE_KFOLD = True\n",
    "ENABLE_LOO = False\n"
   ]
  },
  {
   "cell_type": "markdown",
   "metadata": {},
   "source": [
    "## Load  Dataset\n",
    "* Select a data set (Portugese course or Math course)"
   ]
  },
  {
   "cell_type": "code",
   "execution_count": 3,
   "metadata": {},
   "outputs": [
    {
     "data": {
      "text/plain": [
       "((519, 33), (130, 33))"
      ]
     },
     "execution_count": 3,
     "metadata": {},
     "output_type": "execute_result"
    }
   ],
   "source": [
    "# import data from csv\n",
    "if (ENABLE_POR_DATA):\n",
    "    dataframe = pd.read_csv('student-por-train.csv', usecols = range(0,33)) \n",
    "    dataframe_test = pd.read_csv('student-por-test.csv', usecols = range(0,33)) \n",
    "elif (ENABLE_MAT_DATA): \n",
    "    dataframe = pd.read_csv('student-mat-train.csv', usecols = range(0,33))\n",
    "    dataframe_test = pd.read_csv('student-mat-test.csv', usecols = range(0,33))\n",
    "\n",
    "dataset = dataframe.values\n",
    "dataset_test = dataframe_test.values\n",
    "dataset.shape, dataset_test.shape"
   ]
  },
  {
   "cell_type": "markdown",
   "metadata": {},
   "source": [
    "## Preprocessing\n",
    "\n",
    "* Convert nominal attributes with Integer + One-Hot Encoding\n",
    "* Selects supervised approache for G3\n",
    "* NOTE: if we want we can also split further into A,B,C (A= all cols, B=same as A without G2, C=same as B without G1)\n",
    "    * But leaving this out for now since we know A gives best accuracy"
   ]
  },
  {
   "cell_type": "code",
   "execution_count": 4,
   "metadata": {
    "collapsed": true
   },
   "outputs": [],
   "source": [
    "# helper functions for preprocessing\n",
    "def convertToBinary(df, num_cols):\n",
    "    df.loc[(df.G3 < 10), 'G3'] = 0\n",
    "    df.loc[(df.G3 >= 10), 'G3'] = 1\n",
    "    \n",
    "    G3 = df.values[:,num_cols-1]\n",
    "    return G3\n",
    "\n",
    "def convertToFiveLevel(df, num_cols):\n",
    "    df.loc[(df.G3 <= 9), 'G3'] = 0\n",
    "    df.loc[(df.G3 > 9) & (df.G3 <= 11), 'G3'] = 1\n",
    "    df.loc[(df.G3 > 11) & (df.G3 <= 13), 'G3'] = 2\n",
    "    df.loc[(df.G3 > 13) & (df.G3 <= 16), 'G3'] = 3\n",
    "    df.loc[(df.G3 > 16), 'G3'] = 4\n",
    "    \n",
    "    G3 = df.values[:,num_cols-1]\n",
    "    return G3   \n",
    "\n",
    "def oneHotEncode(df, num_cols):\n",
    "    df = df.drop(labels='G3', axis=1)\n",
    "    cols_to_transform = [\n",
    "                        'school',\n",
    "                        'sex',\n",
    "                        'address',\n",
    "                        'famsize',\n",
    "                        'Pstatus',\n",
    "                        'Mjob',                        \n",
    "                        'Fjob',\n",
    "                        'reason',\n",
    "                        'guardian',\n",
    "                        'famsup',\n",
    "                        'schoolsup',\n",
    "                        'paid',\n",
    "                        'activities',\n",
    "                        'nursery',                        \n",
    "                        'higher',\n",
    "                        'internet',\n",
    "                        'romantic',\n",
    "                        ]\n",
    "    hot_encoded_df = pd.get_dummies(df, columns = cols_to_transform)\n",
    "    \n",
    "    attributes = hot_encoded_df.values\n",
    "    return attributes\n",
    "\n",
    "def normalizeData(train_data, val_data, test_data):\n",
    "    scaler = StandardScaler().fit(train_data)\n",
    "    train_data = scaler.transform(train_data)\n",
    "    val_data = scaler.transform(val_data)\n",
    "    test_data = scaler.transform(test_data)\n",
    "    \n",
    "    return train_data, val_data, test_data\n",
    "\n",
    "# shuffle dataset\n",
    "np.random.shuffle(dataset)\n",
    "\n",
    "# find col length\n",
    "num_cols = dataset.shape[1]\n",
    "\n",
    "# split one-hot encoded attributes (X) and G3 (Y)\n",
    "X = oneHotEncode(dataframe, num_cols)\n",
    "X_tst = oneHotEncode(dataframe_test, num_cols)\n",
    "\n",
    "# selects supervised approach for G3\n",
    "if (ENABLE_BINARY_TARGET):\n",
    "    Y = convertToBinary(dataframe, num_cols).astype('int')\n",
    "    Y_tst = convertToBinary(dataframe_test, num_cols).astype('int')\n",
    "elif (ENABLE_5LEVEL_TARGET):\n",
    "    Y = convertToFiveLevel(dataframe, num_cols).astype('int')\n",
    "    Y_tst = convertToFiveLevel(dataframe_test, num_cols).astype('int')\n",
    "elif (ENABLE_REGRESSION_TARGET):\n",
    "    Y = dataset[:,num_cols-1].astype('int')\n",
    "    Y_tst = dataset_test[:,num_cols-1].astype('int')\n",
    "    "
   ]
  },
  {
   "cell_type": "code",
   "execution_count": 5,
   "metadata": {},
   "outputs": [
    {
     "data": {
      "text/plain": [
       "((519, 58), (519,), (130, 58), (130,))"
      ]
     },
     "execution_count": 5,
     "metadata": {},
     "output_type": "execute_result"
    }
   ],
   "source": [
    "# Y\n",
    "X.shape, Y.shape, X_tst.shape, Y_tst.shape"
   ]
  },
  {
   "cell_type": "markdown",
   "metadata": {},
   "source": [
    "## Dimensionality Reduction\n",
    "* PCA & LDA reduction methods"
   ]
  },
  {
   "cell_type": "code",
   "execution_count": 113,
   "metadata": {
    "collapsed": true
   },
   "outputs": [],
   "source": [
    "def pcaReduction(train_data, val_data, test_data, n_comp):\n",
    "    pca = PCA(n_components=n_comp)\n",
    "    train_data = pca.fit_transform(train_data)\n",
    "    val_data = pca.transform(val_data)\n",
    "    test_data = pca.transform(test_data)\n",
    "    \n",
    "    return train_data, val_data, test_data\n",
    "\n",
    "def ldaReduction(train_data, train_target, val_data, test_data, n_comp):\n",
    "    lda = LinearDiscriminantAnalysis(n_components=n_comp)\n",
    "    train_data = lda.fit_transform(train_data, train_target)\n",
    "    val_data = lda.transform(val_data)\n",
    "    test_data = lda.transform(test_data)\n",
    "    \n",
    "    return train_data, val_data, test_data\n"
   ]
  },
  {
   "cell_type": "markdown",
   "metadata": {},
   "source": [
    "## Decision Tree\n",
    "* Single decision tree"
   ]
  },
  {
   "cell_type": "code",
   "execution_count": 38,
   "metadata": {},
   "outputs": [],
   "source": [
    "clf = tree.DecisionTreeClassifier()\n",
    "clf = clf.fit(X, Y)"
   ]
  },
  {
   "cell_type": "markdown",
   "metadata": {},
   "source": [
    "## K-Fold Validation\n",
    "* 10 fold"
   ]
  },
  {
   "cell_type": "code",
   "execution_count": 39,
   "metadata": {},
   "outputs": [
    {
     "name": "stdout",
     "output_type": "stream",
     "text": [
      "0.846153846154 0.923076923077\n"
     ]
    }
   ],
   "source": [
    "def get_prediction(n_folds=3):\n",
    "    kf = KFold(n_splits=n_folds)\n",
    "\n",
    "    results = []\n",
    "    for tr, ts in kf.split(X):\n",
    "        clf.fit(X[tr], Y[tr])\n",
    "        y_pred = clf.predict(X[ts])\n",
    "        results.append(accuracy_score(Y[ts], y_pred))\n",
    "    return (results)\n",
    "\n",
    "k_fold_results = get_prediction(10)\n",
    "print(min(k_fold_results), max(k_fold_results))"
   ]
  },
  {
   "cell_type": "markdown",
   "metadata": {},
   "source": [
    "## Test Set\n",
    "* Test set accuracy"
   ]
  },
  {
   "cell_type": "code",
   "execution_count": 61,
   "metadata": {},
   "outputs": [
    {
     "name": "stdout",
     "output_type": "stream",
     "text": [
      "0.915384615385\n"
     ]
    }
   ],
   "source": [
    "clf = clf.fit(X, Y)\n",
    "predicted = clf.predict(X_tst)\n",
    "print(accuracy_score(Y_tst, predicted))"
   ]
  }
 ],
 "metadata": {
  "kernelspec": {
   "display_name": "Python 3",
   "language": "python",
   "name": "python3"
  },
  "language_info": {
   "codemirror_mode": {
    "name": "ipython",
    "version": 3
   },
   "file_extension": ".py",
   "mimetype": "text/x-python",
   "name": "python",
   "nbconvert_exporter": "python",
   "pygments_lexer": "ipython3",
   "version": "3.6.3"
  }
 },
 "nbformat": 4,
 "nbformat_minor": 2
}
